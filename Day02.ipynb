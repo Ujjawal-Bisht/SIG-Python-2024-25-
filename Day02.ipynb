{
 "cells": [
  {
   "cell_type": "code",
   "execution_count": null,
   "id": "bdc53994",
   "metadata": {},
   "outputs": [],
   "source": [
    "#FlowofControl"
   ]
  },
  {
   "cell_type": "code",
   "execution_count": null,
   "id": "059869fd",
   "metadata": {},
   "outputs": [],
   "source": [
    "#Conditionals\n",
    "# if, elif, else\n",
    "# for, while\n",
    "# break, continue,pass"
   ]
  },
  {
   "cell_type": "code",
   "execution_count": 3,
   "id": "7b65d532",
   "metadata": {},
   "outputs": [
    {
     "name": "stdout",
     "output_type": "stream",
     "text": [
      "a is greater than b\n"
     ]
    }
   ],
   "source": [
    "#if\n",
    "a = 10\n",
    "b = 20\n",
    "if b > a:\n",
    "    print(\"a is greater than b\")"
   ]
  },
  {
   "cell_type": "code",
   "execution_count": 4,
   "id": "d649d54f",
   "metadata": {},
   "outputs": [
    {
     "name": "stdout",
     "output_type": "stream",
     "text": [
      "b is greater than a\n"
     ]
    }
   ],
   "source": [
    "#if -else\n",
    "if a > b:\n",
    "    print(\"a is greater than b\")\n",
    "else:\n",
    "    print(\"b is greater than a\")"
   ]
  },
  {
   "cell_type": "code",
   "execution_count": 7,
   "id": "5f660fbd",
   "metadata": {},
   "outputs": [
    {
     "name": "stdout",
     "output_type": "stream",
     "text": [
      "a is less than 16\n"
     ]
    }
   ],
   "source": [
    "if (a>b):\n",
    "    print(\"a is greater than b\")\n",
    "elif (a==b):\n",
    "    print(\"a is equal to b\")\n",
    "elif(a>16):\n",
    "    print(\"a is greater than 16\")\n",
    "elif(a<16):\n",
    "    print(\"a is less than 16\")\n"
   ]
  },
  {
   "cell_type": "code",
   "execution_count": 9,
   "id": "59d742ac",
   "metadata": {},
   "outputs": [
    {
     "name": "stdout",
     "output_type": "stream",
     "text": [
      "a is less than 20\n"
     ]
    }
   ],
   "source": [
    "if(a>=10):\n",
    "    if(a>20):\n",
    "        print(\"a is greater than 20\")\n",
    "    else:\n",
    "        print(\"a is less than 20\")\n",
    "else:\n",
    "    print(\"a is less than 10\")"
   ]
  },
  {
   "cell_type": "code",
   "execution_count": 12,
   "id": "c569169a",
   "metadata": {},
   "outputs": [
    {
     "name": "stdout",
     "output_type": "stream",
     "text": [
      "not one or two or three\n"
     ]
    }
   ],
   "source": [
    "n = int(input(\"Enter a number: \"))\n",
    "match n:\n",
    "    case 1:\n",
    "        print(\"one\")\n",
    "    case 2:\n",
    "        print(\"two\")\n",
    "    case 3:\n",
    "        print(\"three\")\n",
    "    case _:\n",
    "        print(\"not one or two or three\")"
   ]
  },
  {
   "cell_type": "code",
   "execution_count": null,
   "id": "29ba4647",
   "metadata": {},
   "outputs": [],
   "source": [
    "marks = int(input(\"Enter your marks: \"))\n",
    "match marks:\n",
    "    case (100):\n",
    "        print(\"You got A+\")\n",
    "    case 90:\n",
    "        print(\"You got A\")\n",
    "    case 80:\n",
    "        print(\"You got B\")\n",
    "    case 70:\n",
    "        print(\"You got C\")\n",
    "    case 60:\n",
    "        print(\"You got D\")\n",
    "    case _:\n",
    "        print(\"You failed\")"
   ]
  },
  {
   "cell_type": "markdown",
   "id": "8fdad25c",
   "metadata": {},
   "source": [
    "2 * 1 = 2\n",
    "2 * 2 = 4\n",
    "2 * 3 = 6\n",
    "2 * 4 = 8"
   ]
  },
  {
   "cell_type": "code",
   "execution_count": null,
   "id": "3c416d2c",
   "metadata": {},
   "outputs": [],
   "source": []
  },
  {
   "cell_type": "code",
   "execution_count": null,
   "id": "7de8939e",
   "metadata": {},
   "outputs": [],
   "source": [
    "marks = int(input(\"Enter your marks: \"))\n",
    "if(marks>=90):\n",
    "    print(\"You got A+\")\n",
    "elif(marks>=80):\n",
    "    print(\"You got A\")\n",
    "elif(marks>=70):\n",
    "    print(\"You got B\")\n",
    "elif(marks>=60):\n",
    "    print(\"You got C\")\n",
    "else:\n",
    "    print(\"You failed\")"
   ]
  },
  {
   "cell_type": "markdown",
   "id": "6aa9e95d",
   "metadata": {},
   "source": [
    "take input from user, check whether it is even or odd."
   ]
  },
  {
   "cell_type": "code",
   "execution_count": 17,
   "id": "2a43ed64",
   "metadata": {},
   "outputs": [
    {
     "name": "stdout",
     "output_type": "stream",
     "text": [
      "0\n",
      "Hello\n",
      "1\n",
      "Hello\n",
      "2\n",
      "Hello\n",
      "3\n",
      "Hello\n",
      "4\n",
      "Hello\n",
      "5\n",
      "Hello\n",
      "6\n",
      "Hello\n",
      "7\n",
      "Hello\n",
      "8\n",
      "Hello\n",
      "9\n",
      "Hello\n",
      "10\n",
      "Hello\n",
      "11\n",
      "Hello\n",
      "12\n",
      "Hello\n",
      "13\n",
      "Hello\n",
      "14\n",
      "Hello\n",
      "15\n",
      "Hello\n",
      "16\n",
      "Hello\n",
      "17\n",
      "Hello\n",
      "18\n",
      "Hello\n",
      "19\n",
      "Hello\n",
      "20\n",
      "Hello\n",
      "21\n",
      "Hello\n",
      "22\n",
      "Hello\n",
      "23\n",
      "Hello\n",
      "24\n",
      "Hello\n",
      "25\n",
      "Hello\n",
      "26\n",
      "Hello\n",
      "27\n",
      "Hello\n",
      "28\n",
      "Hello\n",
      "29\n",
      "Hello\n",
      "30\n",
      "Hello\n",
      "31\n",
      "Hello\n",
      "32\n",
      "Hello\n",
      "33\n",
      "Hello\n",
      "34\n",
      "Hello\n",
      "35\n",
      "Hello\n",
      "36\n",
      "Hello\n",
      "37\n",
      "Hello\n",
      "38\n",
      "Hello\n",
      "39\n",
      "Hello\n",
      "40\n",
      "Hello\n",
      "41\n",
      "Hello\n",
      "42\n",
      "Hello\n",
      "43\n",
      "Hello\n",
      "44\n",
      "Hello\n",
      "45\n",
      "Hello\n",
      "46\n",
      "Hello\n",
      "47\n",
      "Hello\n",
      "48\n",
      "Hello\n",
      "49\n",
      "Hello\n"
     ]
    }
   ],
   "source": [
    "i=0\n",
    "while(i<50):\n",
    "    print(i)\n",
    "    print(\"Hello\")\n",
    "\n",
    "    i+=1\n"
   ]
  },
  {
   "cell_type": "code",
   "execution_count": null,
   "id": "1629411a",
   "metadata": {},
   "outputs": [
    {
     "name": "stdout",
     "output_type": "stream",
     "text": [
      "5\n",
      "8\n",
      "11\n",
      "14\n",
      "17\n",
      "20\n",
      "23\n"
     ]
    }
   ],
   "source": [
    "for i in range(5,25,3):\n",
    "    print(i)    # 5 6 7 8 9 10"
   ]
  },
  {
   "cell_type": "code",
   "execution_count": 22,
   "id": "70c89da4",
   "metadata": {},
   "outputs": [
    {
     "name": "stdout",
     "output_type": "stream",
     "text": [
      "Sum =  50005000\n"
     ]
    }
   ],
   "source": [
    "#Sum of first n natural numbers.\n",
    "sum = 0\n",
    "n = int(input(\"Enter a number: \"))\n",
    "for i in range(1,n+1):\n",
    "    sum = sum + i\n",
    "\n",
    "print(\"Sum = \",sum)"
   ]
  },
  {
   "cell_type": "code",
   "execution_count": 25,
   "id": "8c3cdbef",
   "metadata": {},
   "outputs": [
    {
     "name": "stdout",
     "output_type": "stream",
     "text": [
      "1\n",
      "2\n",
      "3\n",
      "4\n",
      "5\n"
     ]
    }
   ],
   "source": [
    "for i in (1,2,3,4,5):\n",
    "    print(i)   # H e l l o"
   ]
  },
  {
   "cell_type": "markdown",
   "id": "85786051",
   "metadata": {},
   "source": [
    "Initialization\n",
    "Condition\n",
    "Body of loop\n",
    "Updation"
   ]
  },
  {
   "cell_type": "code",
   "execution_count": null,
   "id": "7f7829bc",
   "metadata": {},
   "outputs": [],
   "source": [
    "#   Task 01\n",
    "'''\n",
    "1) WAP to find factorial of a number using for and while loop.\n",
    "2) WAP to print total number of vowels present in a string.\n",
    "3) WAP to check if a string is a palindrome or not. Eg.- madam, level, etc.\n",
    "'''"
   ]
  },
  {
   "cell_type": "code",
   "execution_count": 28,
   "id": "e69b1706",
   "metadata": {},
   "outputs": [
    {
     "name": "stdout",
     "output_type": "stream",
     "text": [
      "0 1 1 2 3 5 8 13 21 34 "
     ]
    }
   ],
   "source": [
    "# fibonacci series\n",
    "# 0 1 1 2 3 5 8 13 21 34 55 89\n",
    "\n",
    "n = int(input(\"Enter a number: \"))\n",
    "a = 0\n",
    "b = 1\n",
    "for i in range(n):\n",
    "    c = a + b\n",
    "    print(a,end = \" \")\n",
    "    a = b\n",
    "    b = c"
   ]
  }
 ],
 "metadata": {
  "kernelspec": {
   "display_name": "condaenv",
   "language": "python",
   "name": "condaenv"
  },
  "language_info": {
   "codemirror_mode": {
    "name": "ipython",
    "version": 3
   },
   "file_extension": ".py",
   "mimetype": "text/x-python",
   "name": "python",
   "nbconvert_exporter": "python",
   "pygments_lexer": "ipython3",
   "version": "3.12.7"
  }
 },
 "nbformat": 4,
 "nbformat_minor": 5
}

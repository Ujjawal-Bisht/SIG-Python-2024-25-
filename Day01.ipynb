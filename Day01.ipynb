{
 "cells": [
  {
   "cell_type": "code",
   "execution_count": 1,
   "id": "53a9931a",
   "metadata": {},
   "outputs": [
    {
     "name": "stdout",
     "output_type": "stream",
     "text": [
      "Hello World\n"
     ]
    }
   ],
   "source": [
    "print(\"Hello World\")"
   ]
  },
  {
   "cell_type": "code",
   "execution_count": 2,
   "id": "aed9be80",
   "metadata": {},
   "outputs": [
    {
     "name": "stdout",
     "output_type": "stream",
     "text": [
      "124\n"
     ]
    }
   ],
   "source": [
    "print(124)"
   ]
  },
  {
   "cell_type": "code",
   "execution_count": 3,
   "id": "d2de4663",
   "metadata": {},
   "outputs": [],
   "source": [
    "a = \"This is a string\"\n",
    "b = 1234"
   ]
  },
  {
   "cell_type": "code",
   "execution_count": 4,
   "id": "15166fe1",
   "metadata": {},
   "outputs": [
    {
     "name": "stdout",
     "output_type": "stream",
     "text": [
      "<class 'str'>\n"
     ]
    }
   ],
   "source": [
    "print(type(a))"
   ]
  },
  {
   "cell_type": "code",
   "execution_count": null,
   "id": "6078e6ad",
   "metadata": {},
   "outputs": [],
   "source": [
    "# numeric- int, float, complex\n",
    "# sequence- list, tuple, strings``\n",
    "# mapping - dict\n",
    "# set- set\n",
    "# boolean\n",
    "# None\n",
    "\n",
    "\"\"\"\n",
    "this is\n",
    "a multi- line comment\n",
    "\n",
    "\"\"\""
   ]
  },
  {
   "cell_type": "code",
   "execution_count": 1,
   "id": "9b9bdeab",
   "metadata": {},
   "outputs": [],
   "source": [
    "a = int(input())\n",
    "b = float(input())"
   ]
  }
 ],
 "metadata": {
  "kernelspec": {
   "display_name": "condaenv",
   "language": "python",
   "name": "condaenv"
  },
  "language_info": {
   "codemirror_mode": {
    "name": "ipython",
    "version": 3
   },
   "file_extension": ".py",
   "mimetype": "text/x-python",
   "name": "python",
   "nbconvert_exporter": "python",
   "pygments_lexer": "ipython3",
   "version": "3.12.7"
  }
 },
 "nbformat": 4,
 "nbformat_minor": 5
}
